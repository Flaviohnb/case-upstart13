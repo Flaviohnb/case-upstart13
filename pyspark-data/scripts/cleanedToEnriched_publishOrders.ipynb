{
 "cells": [
  {
   "cell_type": "code",
   "execution_count": 1,
   "id": "873ecd35-8405-492b-942c-05edf0ad187a",
   "metadata": {},
   "outputs": [
    {
     "name": "stdout",
     "output_type": "stream",
     "text": [
      "Starting Spark application\n"
     ]
    },
    {
     "data": {
      "text/html": [
       "<table>\n",
       "<tr><th>ID</th><th>YARN Application ID</th><th>Kind</th><th>State</th><th>Spark UI</th><th>Driver log</th><th>User</th><th>Current session?</th></tr><tr><td>4</td><td>None</td><td>pyspark</td><td>idle</td><td></td><td></td><td>None</td><td>✔</td></tr></table>"
      ],
      "text/plain": [
       "<IPython.core.display.HTML object>"
      ]
     },
     "metadata": {},
     "output_type": "display_data"
    },
    {
     "data": {
      "application/vnd.jupyter.widget-view+json": {
       "model_id": "",
       "version_major": 2,
       "version_minor": 0
      },
      "text/plain": [
       "FloatProgress(value=0.0, bar_style='info', description='Progress:', layout=Layout(height='25px', width='50%'),…"
      ]
     },
     "metadata": {},
     "output_type": "display_data"
    },
    {
     "name": "stdout",
     "output_type": "stream",
     "text": [
      "SparkSession available as 'spark'.\n"
     ]
    },
    {
     "data": {
      "application/vnd.jupyter.widget-view+json": {
       "model_id": "",
       "version_major": 2,
       "version_minor": 0
      },
      "text/plain": [
       "FloatProgress(value=0.0, bar_style='info', description='Progress:', layout=Layout(height='25px', width='50%'),…"
      ]
     },
     "metadata": {},
     "output_type": "display_data"
    }
   ],
   "source": [
    "from pyspark.sql import SparkSession\n",
    "\n",
    "import pyspark.sql.functions as F\n",
    "import datetime\n",
    "import os"
   ]
  },
  {
   "cell_type": "code",
   "execution_count": 2,
   "id": "d3d054b8-40a7-4ddb-b4df-1928f5c14b55",
   "metadata": {},
   "outputs": [
    {
     "data": {
      "application/vnd.jupyter.widget-view+json": {
       "model_id": "",
       "version_major": 2,
       "version_minor": 0
      },
      "text/plain": [
       "FloatProgress(value=0.0, bar_style='info', description='Progress:', layout=Layout(height='25px', width='50%'),…"
      ]
     },
     "metadata": {},
     "output_type": "display_data"
    }
   ],
   "source": [
    "source_path = 'datalake/cleaned'\n",
    "target_path = 'datalake/enriched'"
   ]
  },
  {
   "cell_type": "code",
   "execution_count": 3,
   "id": "f133ef05-04e0-4f51-aa8c-2e913864372b",
   "metadata": {},
   "outputs": [
    {
     "data": {
      "application/vnd.jupyter.widget-view+json": {
       "model_id": "",
       "version_major": 2,
       "version_minor": 0
      },
      "text/plain": [
       "FloatProgress(value=0.0, bar_style='info', description='Progress:', layout=Layout(height='25px', width='50%'),…"
      ]
     },
     "metadata": {},
     "output_type": "display_data"
    }
   ],
   "source": [
    "df_store_salesOrderDetail = (\n",
    "    spark\n",
    "    .read\n",
    "    .parquet(f\"./jupyter_workspace/{source_path}/store_sales-order-detail-1-1-/*\")\n",
    ")"
   ]
  },
  {
   "cell_type": "code",
   "execution_count": 4,
   "id": "84d328fb-b707-401e-9efa-d0e39bfcebcc",
   "metadata": {},
   "outputs": [
    {
     "data": {
      "application/vnd.jupyter.widget-view+json": {
       "model_id": "",
       "version_major": 2,
       "version_minor": 0
      },
      "text/plain": [
       "FloatProgress(value=0.0, bar_style='info', description='Progress:', layout=Layout(height='25px', width='50%'),…"
      ]
     },
     "metadata": {},
     "output_type": "display_data"
    }
   ],
   "source": [
    "df_store_salesOrderHeader = (\n",
    "    spark\n",
    "    .read\n",
    "    .parquet(f\"./jupyter_workspace/{source_path}/store_sales-order-header-1-1-/*\")\n",
    ")"
   ]
  },
  {
   "cell_type": "code",
   "execution_count": 6,
   "id": "65a71792-a897-447b-9877-76bb6df68b98",
   "metadata": {},
   "outputs": [
    {
     "data": {
      "application/vnd.jupyter.widget-view+json": {
       "model_id": "",
       "version_major": 2,
       "version_minor": 0
      },
      "text/plain": [
       "FloatProgress(value=0.0, bar_style='info', description='Progress:', layout=Layout(height='25px', width='50%'),…"
      ]
     },
     "metadata": {},
     "output_type": "display_data"
    },
    {
     "name": "stdout",
     "output_type": "stream",
     "text": [
      "+---------------+----------+----------+---------------+--------------+-------------+----------------+-------+--------------------+\n",
      "|pk_SalesOrderID| OrderDate|  ShipDate|OnlineOrderFlag| AccountNumber|fk_CustomerID|fk_SalesPersonID|Freight|     loadDateTimeJob|\n",
      "+---------------+----------+----------+---------------+--------------+-------------+----------------+-------+--------------------+\n",
      "|          43828|2021-06-01|2021-07-05|           true|10-4030-027605|        27605|            null|89.4568|2025-04-18 12:51:...|\n",
      "|          43829|2021-06-01|2021-07-05|           true|10-4030-027611|        27611|            null|89.4568|2025-04-18 12:51:...|\n",
      "|          43830|2021-06-01|2021-07-05|           true|10-4030-016347|        16347|            null|89.4568|2025-04-18 12:51:...|\n",
      "|          43831|2021-06-01|2021-07-05|           true|10-4030-011028|        11028|            null|84.3748|2025-04-18 12:51:...|\n",
      "|          43832|2021-06-01|2021-07-05|           true|10-4030-013584|        13584|            null|89.4568|2025-04-18 12:51:...|\n",
      "+---------------+----------+----------+---------------+--------------+-------------+----------------+-------+--------------------+\n",
      "only showing top 5 rows"
     ]
    }
   ],
   "source": [
    "df_store_salesOrderHeader.show(n=5)"
   ]
  },
  {
   "cell_type": "code",
   "execution_count": 5,
   "id": "b9115aa0-32c0-456f-80db-083edaeb45ba",
   "metadata": {},
   "outputs": [
    {
     "data": {
      "application/vnd.jupyter.widget-view+json": {
       "model_id": "",
       "version_major": 2,
       "version_minor": 0
      },
      "text/plain": [
       "FloatProgress(value=0.0, bar_style='info', description='Progress:', layout=Layout(height='25px', width='50%'),…"
      ]
     },
     "metadata": {},
     "output_type": "display_data"
    },
    {
     "name": "stdout",
     "output_type": "stream",
     "text": [
      "+---------------------+---------------+------------+--------+---------+-----------------+--------------------+\n",
      "|pk_SalesOrderDetailID|fk_SalesOrderID|fk_ProductID|OrderQty|UnitPrice|UnitPriceDiscount|     loadDateTimeJob|\n",
      "+---------------------+---------------+------------+--------+---------+-----------------+--------------------+\n",
      "|                    1|          43659|         776|       1| 2024.994|              0.0|2025-04-18 12:49:...|\n",
      "|                    2|          43659|         777|       3| 2024.994|              0.0|2025-04-18 12:49:...|\n",
      "|                    3|          43659|         778|       1| 2024.994|              0.0|2025-04-18 12:49:...|\n",
      "|                    4|          43659|         771|       1| 2039.994|              0.0|2025-04-18 12:49:...|\n",
      "|                    5|          43659|         772|       1| 2039.994|              0.0|2025-04-18 12:49:...|\n",
      "+---------------------+---------------+------------+--------+---------+-----------------+--------------------+\n",
      "only showing top 5 rows"
     ]
    }
   ],
   "source": [
    "df_store_salesOrderDetail.show(n=5)"
   ]
  },
  {
   "cell_type": "code",
   "execution_count": 7,
   "id": "2ae2b83c-6e24-4592-9d5f-00406ae77a34",
   "metadata": {},
   "outputs": [
    {
     "data": {
      "application/vnd.jupyter.widget-view+json": {
       "model_id": "",
       "version_major": 2,
       "version_minor": 0
      },
      "text/plain": [
       "FloatProgress(value=0.0, bar_style='info', description='Progress:', layout=Layout(height='25px', width='50%'),…"
      ]
     },
     "metadata": {},
     "output_type": "display_data"
    }
   ],
   "source": [
    "df_publish_orders = (\n",
    "    df_store_salesOrderDetail\n",
    "    .join(df_store_salesOrderHeader, df_store_salesOrderHeader.pk_SalesOrderID == df_store_salesOrderDetail.fk_SalesOrderID, how='left')\n",
    "    .select(\n",
    "        df_store_salesOrderDetail.fk_SalesOrderID,\n",
    "        df_store_salesOrderDetail.pk_SalesOrderDetailID,\n",
    "        df_store_salesOrderDetail.fk_ProductID,\n",
    "        df_store_salesOrderDetail.OrderQty,        \n",
    "        df_store_salesOrderDetail.UnitPrice,\n",
    "        df_store_salesOrderDetail.UnitPriceDiscount,\n",
    "        df_store_salesOrderHeader.OrderDate,\n",
    "        df_store_salesOrderHeader.ShipDate,                \n",
    "        df_store_salesOrderHeader.OnlineOrderFlag,\n",
    "        df_store_salesOrderHeader.AccountNumber,\n",
    "        df_store_salesOrderHeader.fk_CustomerID,\n",
    "        df_store_salesOrderHeader.fk_SalesPersonID,\n",
    "        df_store_salesOrderHeader.Freight.alias('TotalOrderFreight'),\n",
    "        F.size(F.expr(\"filter(sequence(OrderDate, ShipDate), x -> dayofweek(x) BETWEEN 2 AND 6)\")).alias('LeadTimeInBusinessDays'),\n",
    "        (df_store_salesOrderDetail.OrderQty * (df_store_salesOrderDetail.UnitPrice - df_store_salesOrderDetail.UnitPriceDiscount)).alias('TotalLineExtendedPrice')\n",
    "    )\n",
    ")"
   ]
  },
  {
   "cell_type": "code",
   "execution_count": 8,
   "id": "3b306060-2f5a-4df8-9ae6-45498cfd2e2c",
   "metadata": {},
   "outputs": [
    {
     "data": {
      "application/vnd.jupyter.widget-view+json": {
       "model_id": "",
       "version_major": 2,
       "version_minor": 0
      },
      "text/plain": [
       "FloatProgress(value=0.0, bar_style='info', description='Progress:', layout=Layout(height='25px', width='50%'),…"
      ]
     },
     "metadata": {},
     "output_type": "display_data"
    }
   ],
   "source": [
    "spark.conf.set(\"spark.sql.sources.partitionOverwriteMode\", \"dynamic\")"
   ]
  },
  {
   "cell_type": "code",
   "execution_count": 9,
   "id": "10ffb0c2-8615-4d90-8826-a7cff3d69eb6",
   "metadata": {},
   "outputs": [
    {
     "data": {
      "application/vnd.jupyter.widget-view+json": {
       "model_id": "",
       "version_major": 2,
       "version_minor": 0
      },
      "text/plain": [
       "FloatProgress(value=0.0, bar_style='info', description='Progress:', layout=Layout(height='25px', width='50%'),…"
      ]
     },
     "metadata": {},
     "output_type": "display_data"
    }
   ],
   "source": [
    "(\n",
    "    df_publish_orders\n",
    "    .coalesce(1)\n",
    "    .write\n",
    "    .mode('overwrite')\n",
    "    .parquet(f\"./jupyter_workspace/{target_path}/publish_orders/\")\n",
    ")"
   ]
  },
  {
   "cell_type": "code",
   "execution_count": null,
   "id": "8b350cf6-b430-4dd9-a9bf-7b9d88e42daf",
   "metadata": {},
   "outputs": [],
   "source": []
  }
 ],
 "metadata": {
  "kernelspec": {
   "display_name": "PySpark",
   "language": "python",
   "name": "pysparkkernel"
  },
  "language_info": {
   "codemirror_mode": {
    "name": "python",
    "version": 3
   },
   "file_extension": ".py",
   "mimetype": "text/x-python",
   "name": "pyspark",
   "pygments_lexer": "python3"
  }
 },
 "nbformat": 4,
 "nbformat_minor": 5
}
