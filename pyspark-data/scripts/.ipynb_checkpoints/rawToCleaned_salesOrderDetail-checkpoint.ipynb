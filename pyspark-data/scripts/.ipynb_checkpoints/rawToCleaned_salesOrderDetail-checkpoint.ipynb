{
 "cells": [
  {
   "cell_type": "code",
   "execution_count": 1,
   "id": "873ecd35-8405-492b-942c-05edf0ad187a",
   "metadata": {},
   "outputs": [
    {
     "name": "stdout",
     "output_type": "stream",
     "text": [
      "Starting Spark application\n"
     ]
    },
    {
     "data": {
      "text/html": [
       "<table>\n",
       "<tr><th>ID</th><th>YARN Application ID</th><th>Kind</th><th>State</th><th>Spark UI</th><th>Driver log</th><th>User</th><th>Current session?</th></tr><tr><td>6</td><td>None</td><td>pyspark</td><td>idle</td><td></td><td></td><td>None</td><td>✔</td></tr></table>"
      ],
      "text/plain": [
       "<IPython.core.display.HTML object>"
      ]
     },
     "metadata": {},
     "output_type": "display_data"
    },
    {
     "data": {
      "application/vnd.jupyter.widget-view+json": {
       "model_id": "",
       "version_major": 2,
       "version_minor": 0
      },
      "text/plain": [
       "FloatProgress(value=0.0, bar_style='info', description='Progress:', layout=Layout(height='25px', width='50%'),…"
      ]
     },
     "metadata": {},
     "output_type": "display_data"
    },
    {
     "name": "stdout",
     "output_type": "stream",
     "text": [
      "SparkSession available as 'spark'.\n"
     ]
    },
    {
     "data": {
      "application/vnd.jupyter.widget-view+json": {
       "model_id": "",
       "version_major": 2,
       "version_minor": 0
      },
      "text/plain": [
       "FloatProgress(value=0.0, bar_style='info', description='Progress:', layout=Layout(height='25px', width='50%'),…"
      ]
     },
     "metadata": {},
     "output_type": "display_data"
    }
   ],
   "source": [
    "from pyspark.sql import SparkSession\n",
    "\n",
    "import pyspark.sql.functions as F\n",
    "import datetime\n",
    "import os"
   ]
  },
  {
   "cell_type": "code",
   "execution_count": 2,
   "id": "d3d054b8-40a7-4ddb-b4df-1928f5c14b55",
   "metadata": {},
   "outputs": [
    {
     "data": {
      "application/vnd.jupyter.widget-view+json": {
       "model_id": "",
       "version_major": 2,
       "version_minor": 0
      },
      "text/plain": [
       "FloatProgress(value=0.0, bar_style='info', description='Progress:', layout=Layout(height='25px', width='50%'),…"
      ]
     },
     "metadata": {},
     "output_type": "display_data"
    }
   ],
   "source": [
    "source_path = 'datalake/raw'\n",
    "file_name = 'sales-order-detail-1-1-.csv'"
   ]
  },
  {
   "cell_type": "code",
   "execution_count": 3,
   "id": "f133ef05-04e0-4f51-aa8c-2e913864372b",
   "metadata": {},
   "outputs": [
    {
     "data": {
      "application/vnd.jupyter.widget-view+json": {
       "model_id": "",
       "version_major": 2,
       "version_minor": 0
      },
      "text/plain": [
       "FloatProgress(value=0.0, bar_style='info', description='Progress:', layout=Layout(height='25px', width='50%'),…"
      ]
     },
     "metadata": {},
     "output_type": "display_data"
    }
   ],
   "source": [
    "df_raw_salesOrderDetail = (\n",
    "    spark\n",
    "    .read\n",
    "    .format(\"csv\")\n",
    "    .option(\"header\",True)\n",
    "    .load(f\"./jupyter_workspace/{source_path}/raw_{file_name}\")\n",
    ")"
   ]
  },
  {
   "cell_type": "code",
   "execution_count": 4,
   "id": "2a091017-69e1-4694-ba37-f9072e423c65",
   "metadata": {},
   "outputs": [
    {
     "data": {
      "application/vnd.jupyter.widget-view+json": {
       "model_id": "",
       "version_major": 2,
       "version_minor": 0
      },
      "text/plain": [
       "FloatProgress(value=0.0, bar_style='info', description='Progress:', layout=Layout(height='25px', width='50%'),…"
      ]
     },
     "metadata": {},
     "output_type": "display_data"
    },
    {
     "name": "stdout",
     "output_type": "stream",
     "text": [
      "root\n",
      " |-- SalesOrderID: string (nullable = true)\n",
      " |-- SalesOrderDetailID: string (nullable = true)\n",
      " |-- OrderQty: string (nullable = true)\n",
      " |-- ProductID: string (nullable = true)\n",
      " |-- UnitPrice: string (nullable = true)\n",
      " |-- UnitPriceDiscount: string (nullable = true)"
     ]
    }
   ],
   "source": [
    "df_raw_salesOrderDetail.printSchema()"
   ]
  },
  {
   "cell_type": "code",
   "execution_count": 5,
   "id": "6bb7e1fe-4126-4736-b7a3-13d9ff1d8322",
   "metadata": {},
   "outputs": [
    {
     "data": {
      "application/vnd.jupyter.widget-view+json": {
       "model_id": "",
       "version_major": 2,
       "version_minor": 0
      },
      "text/plain": [
       "FloatProgress(value=0.0, bar_style='info', description='Progress:', layout=Layout(height='25px', width='50%'),…"
      ]
     },
     "metadata": {},
     "output_type": "display_data"
    },
    {
     "name": "stdout",
     "output_type": "stream",
     "text": [
      "+------------+------------------+--------+---------+---------+-----------------+\n",
      "|SalesOrderID|SalesOrderDetailID|OrderQty|ProductID|UnitPrice|UnitPriceDiscount|\n",
      "+------------+------------------+--------+---------+---------+-----------------+\n",
      "|43659       |1                 |1       |776      |2024.9940|.0000            |\n",
      "|43659       |2                 |3       |777      |2024.9940|.0000            |\n",
      "|43659       |3                 |1       |778      |2024.9940|.0000            |\n",
      "|43659       |4                 |1       |771      |2039.9940|.0000            |\n",
      "|43659       |5                 |1       |772      |2039.9940|.0000            |\n",
      "|43659       |6                 |2       |773      |2039.9940|.0000            |\n",
      "|43659       |7                 |1       |774      |2039.9940|.0000            |\n",
      "|43659       |8                 |3       |714      |28.8404  |.0000            |\n",
      "|43659       |9                 |1       |716      |28.8404  |.0000            |\n",
      "|43659       |10                |6       |709      |5.7000   |.0000            |\n",
      "|43659       |11                |2       |712      |5.1865   |.0000            |\n",
      "|43659       |12                |4       |711      |20.1865  |.0000            |\n",
      "|43660       |13                |1       |762      |419.4589 |.0000            |\n",
      "|43660       |14                |1       |758      |874.7940 |.0000            |\n",
      "|43661       |15                |1       |745      |809.7600 |.0000            |\n",
      "|43661       |16                |1       |743      |714.7043 |.0000            |\n",
      "|43661       |17                |2       |747      |714.7043 |.0000            |\n",
      "|43661       |18                |4       |712      |5.1865   |.0000            |\n",
      "|43661       |19                |4       |715      |28.8404  |.0000            |\n",
      "|43661       |20                |2       |742      |722.5949 |.0000            |\n",
      "+------------+------------------+--------+---------+---------+-----------------+\n",
      "only showing top 20 rows"
     ]
    }
   ],
   "source": [
    "df_raw_salesOrderDetail.show(truncate=False)"
   ]
  },
  {
   "cell_type": "code",
   "execution_count": 7,
   "id": "4328d080-bbca-42ae-9120-732ad85e279f",
   "metadata": {},
   "outputs": [
    {
     "data": {
      "application/vnd.jupyter.widget-view+json": {
       "model_id": "",
       "version_major": 2,
       "version_minor": 0
      },
      "text/plain": [
       "FloatProgress(value=0.0, bar_style='info', description='Progress:', layout=Layout(height='25px', width='50%'),…"
      ]
     },
     "metadata": {},
     "output_type": "display_data"
    }
   ],
   "source": [
    "df_store_salesOrderDetail = (\n",
    "    df_raw_salesOrderDetail    \n",
    "    .select(\n",
    "        df_raw_salesOrderDetail.SalesOrderID,\n",
    "        df_raw_salesOrderDetail.SalesOrderDetailID,\n",
    "        df_raw_salesOrderDetail.OrderQty.cast('int'),\n",
    "        df_raw_salesOrderDetail.ProductID,\n",
    "        df_raw_salesOrderDetail.UnitPrice.cast('float'),\n",
    "        df_raw_salesOrderDetail.UnitPriceDiscount.cast('float'),\n",
    "        F.current_timestamp().alias('loadDateTimeJob')\n",
    "    )    \n",
    ")"
   ]
  },
  {
   "cell_type": "code",
   "execution_count": 8,
   "id": "541ee2cb-0c7f-4dac-a426-67da8d56703f",
   "metadata": {},
   "outputs": [
    {
     "data": {
      "application/vnd.jupyter.widget-view+json": {
       "model_id": "",
       "version_major": 2,
       "version_minor": 0
      },
      "text/plain": [
       "FloatProgress(value=0.0, bar_style='info', description='Progress:', layout=Layout(height='25px', width='50%'),…"
      ]
     },
     "metadata": {},
     "output_type": "display_data"
    },
    {
     "name": "stdout",
     "output_type": "stream",
     "text": [
      "root\n",
      " |-- SalesOrderID: string (nullable = true)\n",
      " |-- SalesOrderDetailID: string (nullable = true)\n",
      " |-- OrderQty: integer (nullable = true)\n",
      " |-- ProductID: string (nullable = true)\n",
      " |-- UnitPrice: float (nullable = true)\n",
      " |-- UnitPriceDiscount: float (nullable = true)\n",
      " |-- loadDateTimeJob: timestamp (nullable = false)"
     ]
    }
   ],
   "source": [
    "df_store_salesOrderDetail.printSchema()"
   ]
  },
  {
   "cell_type": "code",
   "execution_count": null,
   "id": "dacc1ab4-f039-4ae7-8bee-e570db83ab6f",
   "metadata": {},
   "outputs": [],
   "source": []
  }
 ],
 "metadata": {
  "kernelspec": {
   "display_name": "PySpark",
   "language": "python",
   "name": "pysparkkernel"
  },
  "language_info": {
   "codemirror_mode": {
    "name": "python",
    "version": 3
   },
   "file_extension": ".py",
   "mimetype": "text/x-python",
   "name": "pyspark",
   "pygments_lexer": "python3"
  }
 },
 "nbformat": 4,
 "nbformat_minor": 5
}
