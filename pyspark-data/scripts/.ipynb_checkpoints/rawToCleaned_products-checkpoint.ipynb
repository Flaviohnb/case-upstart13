{
 "cells": [
  {
   "cell_type": "code",
   "execution_count": null,
   "id": "873ecd35-8405-492b-942c-05edf0ad187a",
   "metadata": {},
   "outputs": [
    {
     "name": "stdout",
     "output_type": "stream",
     "text": [
      "Starting Spark application\n"
     ]
    }
   ],
   "source": [
    "from pyspark.sql import SparkSession\n",
    "\n",
    "import pyspark.sql.functions as F\n",
    "import datetime\n",
    "import os"
   ]
  },
  {
   "cell_type": "code",
   "execution_count": null,
   "id": "d3d054b8-40a7-4ddb-b4df-1928f5c14b55",
   "metadata": {},
   "outputs": [],
   "source": [
    "source_path = 'datalake/raw'\n",
    "file_name = 'products-1-1-'\n",
    "target_path = 'datalake/cleaned'"
   ]
  },
  {
   "cell_type": "code",
   "execution_count": null,
   "id": "f133ef05-04e0-4f51-aa8c-2e913864372b",
   "metadata": {},
   "outputs": [],
   "source": [
    "df_raw_products = (\n",
    "    spark\n",
    "    .read\n",
    "    .format(\"csv\")\n",
    "    .option(\"header\",True)\n",
    "    .load(f\"./jupyter_workspace/{source_path}/raw_{file_name}.csv\")\n",
    ")"
   ]
  },
  {
   "cell_type": "code",
   "execution_count": null,
   "id": "4118462e-9f81-4468-8fa8-e0519a0db406",
   "metadata": {},
   "outputs": [],
   "source": [
    "df_raw_products.printSchema()"
   ]
  },
  {
   "cell_type": "code",
   "execution_count": null,
   "id": "6bb7e1fe-4126-4736-b7a3-13d9ff1d8322",
   "metadata": {},
   "outputs": [],
   "source": [
    "df_raw_products.show(truncate=False)"
   ]
  },
  {
   "cell_type": "code",
   "execution_count": null,
   "id": "4328d080-bbca-42ae-9120-732ad85e279f",
   "metadata": {},
   "outputs": [],
   "source": [
    "df_store_products = (\n",
    "    df_raw_products\n",
    "    .select(\n",
    "        df_raw_products.ProductID,\n",
    "        df_raw_products.ProductDesc,\n",
    "        df_raw_products.ProductNumber,\n",
    "        df_raw_products.MakeFlag.cast('boolean'),\n",
    "        F.when(df_raw_products.Color.isNull(), F.lit('N/A')).otherwise(df_raw_products.Color).alias('Color'),\n",
    "        df_raw_products.SafetyStockLevel.cast('int'),\n",
    "        df_raw_products.ReorderPoint.cast('int'),\n",
    "        df_raw_products.StandardCost.cast('float'),\n",
    "        df_raw_products.ListPrice.cast('float'),\n",
    "        df_raw_products.Size,\n",
    "        df_raw_products.SizeUnitMeasureCode,\n",
    "        df_raw_products.Weight.cast('float'),\n",
    "        df_raw_products.WeightUnitMeasureCode,        \n",
    "        df_raw_products.ProductCategoryName,        \n",
    "        df_raw_products.ProductSubCategoryName,\n",
    "        F.current_timestamp().alias('loadDateTimeJob')\n",
    "    )\n",
    ")"
   ]
  },
  {
   "cell_type": "code",
   "execution_count": null,
   "id": "541ee2cb-0c7f-4dac-a426-67da8d56703f",
   "metadata": {},
   "outputs": [],
   "source": [
    "df_store_products.printSchema()"
   ]
  },
  {
   "cell_type": "code",
   "execution_count": null,
   "id": "3b306060-2f5a-4df8-9ae6-45498cfd2e2c",
   "metadata": {},
   "outputs": [],
   "source": [
    "spark.conf.set(\"spark.sql.sources.partitionOverwriteMode\", \"dynamic\")"
   ]
  },
  {
   "cell_type": "code",
   "execution_count": null,
   "id": "10ffb0c2-8615-4d90-8826-a7cff3d69eb6",
   "metadata": {},
   "outputs": [],
   "source": [
    "(\n",
    "    df_store_products\n",
    "    .coalesce(1)\n",
    "    .write\n",
    "    .mode('overwrite')\n",
    "    .parquet(f\"./jupyter_workspace/{target_path}/store_{file_name}/\")\n",
    ")"
   ]
  },
  {
   "cell_type": "code",
   "execution_count": null,
   "id": "3e97aacd-6d46-486c-bf58-7106bdef6415",
   "metadata": {},
   "outputs": [],
   "source": []
  }
 ],
 "metadata": {
  "kernelspec": {
   "display_name": "PySpark",
   "language": "python",
   "name": "pysparkkernel"
  },
  "language_info": {
   "codemirror_mode": {
    "name": "python",
    "version": 3
   },
   "file_extension": ".py",
   "mimetype": "text/x-python",
   "name": "pyspark",
   "pygments_lexer": "python3"
  }
 },
 "nbformat": 4,
 "nbformat_minor": 5
}
