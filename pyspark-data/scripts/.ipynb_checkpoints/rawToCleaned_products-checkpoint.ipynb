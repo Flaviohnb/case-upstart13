{
 "cells": [
  {
   "cell_type": "code",
   "execution_count": 1,
   "id": "873ecd35-8405-492b-942c-05edf0ad187a",
   "metadata": {},
   "outputs": [
    {
     "name": "stdout",
     "output_type": "stream",
     "text": [
      "Starting Spark application\n"
     ]
    },
    {
     "data": {
      "text/html": [
       "<table>\n",
       "<tr><th>ID</th><th>YARN Application ID</th><th>Kind</th><th>State</th><th>Spark UI</th><th>Driver log</th><th>User</th><th>Current session?</th></tr><tr><td>0</td><td>None</td><td>pyspark</td><td>idle</td><td></td><td></td><td>None</td><td>✔</td></tr></table>"
      ],
      "text/plain": [
       "<IPython.core.display.HTML object>"
      ]
     },
     "metadata": {},
     "output_type": "display_data"
    },
    {
     "data": {
      "application/vnd.jupyter.widget-view+json": {
       "model_id": "",
       "version_major": 2,
       "version_minor": 0
      },
      "text/plain": [
       "FloatProgress(value=0.0, bar_style='info', description='Progress:', layout=Layout(height='25px', width='50%'),…"
      ]
     },
     "metadata": {},
     "output_type": "display_data"
    },
    {
     "name": "stdout",
     "output_type": "stream",
     "text": [
      "SparkSession available as 'spark'.\n"
     ]
    },
    {
     "data": {
      "application/vnd.jupyter.widget-view+json": {
       "model_id": "",
       "version_major": 2,
       "version_minor": 0
      },
      "text/plain": [
       "FloatProgress(value=0.0, bar_style='info', description='Progress:', layout=Layout(height='25px', width='50%'),…"
      ]
     },
     "metadata": {},
     "output_type": "display_data"
    }
   ],
   "source": [
    "from pyspark.sql import SparkSession\n",
    "\n",
    "import pyspark.sql.functions as F\n",
    "import datetime\n",
    "import os"
   ]
  },
  {
   "cell_type": "code",
   "execution_count": 2,
   "id": "d3d054b8-40a7-4ddb-b4df-1928f5c14b55",
   "metadata": {},
   "outputs": [
    {
     "data": {
      "application/vnd.jupyter.widget-view+json": {
       "model_id": "",
       "version_major": 2,
       "version_minor": 0
      },
      "text/plain": [
       "FloatProgress(value=0.0, bar_style='info', description='Progress:', layout=Layout(height='25px', width='50%'),…"
      ]
     },
     "metadata": {},
     "output_type": "display_data"
    }
   ],
   "source": [
    "source_path = 'datalake/raw'\n",
    "file_name = 'products-1-1-'\n",
    "target_path = 'datalake/cleaned'"
   ]
  },
  {
   "cell_type": "code",
   "execution_count": 3,
   "id": "f133ef05-04e0-4f51-aa8c-2e913864372b",
   "metadata": {},
   "outputs": [
    {
     "data": {
      "application/vnd.jupyter.widget-view+json": {
       "model_id": "",
       "version_major": 2,
       "version_minor": 0
      },
      "text/plain": [
       "FloatProgress(value=0.0, bar_style='info', description='Progress:', layout=Layout(height='25px', width='50%'),…"
      ]
     },
     "metadata": {},
     "output_type": "display_data"
    }
   ],
   "source": [
    "df_raw_products = (\n",
    "    spark\n",
    "    .read\n",
    "    .format(\"csv\")\n",
    "    .option(\"header\",True)\n",
    "    .load(f\"./jupyter_workspace/{source_path}/raw_{file_name}.csv\")\n",
    ")"
   ]
  },
  {
   "cell_type": "code",
   "execution_count": 4,
   "id": "4118462e-9f81-4468-8fa8-e0519a0db406",
   "metadata": {},
   "outputs": [
    {
     "data": {
      "application/vnd.jupyter.widget-view+json": {
       "model_id": "",
       "version_major": 2,
       "version_minor": 0
      },
      "text/plain": [
       "FloatProgress(value=0.0, bar_style='info', description='Progress:', layout=Layout(height='25px', width='50%'),…"
      ]
     },
     "metadata": {},
     "output_type": "display_data"
    },
    {
     "name": "stdout",
     "output_type": "stream",
     "text": [
      "root\n",
      " |-- ProductID: string (nullable = true)\n",
      " |-- ProductDesc: string (nullable = true)\n",
      " |-- ProductNumber: string (nullable = true)\n",
      " |-- MakeFlag: string (nullable = true)\n",
      " |-- Color: string (nullable = true)\n",
      " |-- SafetyStockLevel: string (nullable = true)\n",
      " |-- ReorderPoint: string (nullable = true)\n",
      " |-- StandardCost: string (nullable = true)\n",
      " |-- ListPrice: string (nullable = true)\n",
      " |-- Size: string (nullable = true)\n",
      " |-- SizeUnitMeasureCode: string (nullable = true)\n",
      " |-- Weight: string (nullable = true)\n",
      " |-- WeightUnitMeasureCode: string (nullable = true)\n",
      " |-- ProductCategoryName: string (nullable = true)\n",
      " |-- ProductSubCategoryName: string (nullable = true)"
     ]
    }
   ],
   "source": [
    "df_raw_products.printSchema()"
   ]
  },
  {
   "cell_type": "code",
   "execution_count": 5,
   "id": "6bb7e1fe-4126-4736-b7a3-13d9ff1d8322",
   "metadata": {},
   "outputs": [
    {
     "data": {
      "application/vnd.jupyter.widget-view+json": {
       "model_id": "",
       "version_major": 2,
       "version_minor": 0
      },
      "text/plain": [
       "FloatProgress(value=0.0, bar_style='info', description='Progress:', layout=Layout(height='25px', width='50%'),…"
      ]
     },
     "metadata": {},
     "output_type": "display_data"
    },
    {
     "name": "stdout",
     "output_type": "stream",
     "text": [
      "+---------+---------------------------+-------------+--------+-----+----------------+------------+------------+---------+----+-------------------+------+---------------------+-------------------+----------------------+\n",
      "|ProductID|ProductDesc                |ProductNumber|MakeFlag|Color|SafetyStockLevel|ReorderPoint|StandardCost|ListPrice|Size|SizeUnitMeasureCode|Weight|WeightUnitMeasureCode|ProductCategoryName|ProductSubCategoryName|\n",
      "+---------+---------------------------+-------------+--------+-----+----------------+------------+------------+---------+----+-------------------+------+---------------------+-------------------+----------------------+\n",
      "|680      |HL Road Frame - Black, 58  |FR-R92B-58   |True    |Black|500             |375         |1059.31     |1431.5   |58  |CM                 |2.24  |LB                   |null               |Road Frames           |\n",
      "|706      |HL Road Frame - Red, 58    |FR-R92R-58   |True    |Red  |500             |375         |1059.31     |1431.5   |58  |CM                 |2.24  |LB                   |null               |Road Frames           |\n",
      "|707      |Sport-100 Helmet, Red      |HL-U509-R    |False   |Red  |4               |3           |13.0863     |34.99    |null|null               |null  |null                 |null               |Helmets               |\n",
      "|708      |Sport-100 Helmet, Black    |HL-U509      |False   |Black|4               |3           |13.0863     |34.99    |null|null               |null  |null                 |null               |Helmets               |\n",
      "|709      |Mountain Bike Socks, M     |SO-B909-M    |False   |White|4               |3           |3.3963      |9.5      |M   |null               |null  |null                 |null               |Socks                 |\n",
      "|710      |Mountain Bike Socks, L     |SO-B909-L    |False   |White|4               |3           |3.3963      |9.5      |L   |null               |null  |null                 |null               |Socks                 |\n",
      "|711      |Sport-100 Helmet, Blue     |HL-U509-B    |False   |Blue |4               |3           |13.0863     |34.99    |null|null               |null  |null                 |null               |Helmets               |\n",
      "|712      |AWC Logo Cap               |CA-1098      |False   |Multi|4               |3           |6.9223      |8.99     |null|null               |null  |null                 |null               |Caps                  |\n",
      "|713      |Long-Sleeve Logo Jersey, S |LJ-0192-S    |False   |Multi|4               |3           |38.4923     |49.99    |S   |null               |null  |null                 |null               |Jerseys               |\n",
      "|714      |Long-Sleeve Logo Jersey, M |LJ-0192-M    |False   |Multi|4               |3           |38.4923     |49.99    |M   |null               |null  |null                 |null               |Jerseys               |\n",
      "|715      |Long-Sleeve Logo Jersey, L |LJ-0192-L    |False   |Multi|4               |3           |38.4923     |49.99    |L   |null               |null  |null                 |null               |Jerseys               |\n",
      "|716      |Long-Sleeve Logo Jersey, XL|LJ-0192-X    |False   |Multi|4               |3           |38.4923     |49.99    |XL  |null               |null  |null                 |null               |Jerseys               |\n",
      "|717      |HL Road Frame - Red, 62    |FR-R92R-62   |True    |Red  |500             |375         |868.6342    |1431.5   |62  |CM                 |2.30  |LB                   |null               |Road Frames           |\n",
      "|718      |HL Road Frame - Red, 44    |FR-R92R-44   |True    |Red  |500             |375         |868.6342    |1431.5   |44  |CM                 |2.12  |LB                   |null               |Road Frames           |\n",
      "|719      |HL Road Frame - Red, 48    |FR-R92R-48   |True    |Red  |500             |375         |868.6342    |1431.5   |48  |CM                 |2.16  |LB                   |null               |Road Frames           |\n",
      "|720      |HL Road Frame - Red, 52    |FR-R92R-52   |True    |Red  |500             |375         |868.6342    |1431.5   |52  |CM                 |2.20  |LB                   |null               |Road Frames           |\n",
      "|721      |HL Road Frame - Red, 56    |FR-R92R-56   |True    |Red  |500             |375         |868.6342    |1431.5   |56  |CM                 |2.24  |LB                   |null               |Road Frames           |\n",
      "|722      |LL Road Frame - Black, 58  |FR-R38B-58   |True    |Black|500             |375         |204.6251    |337.22   |58  |CM                 |2.46  |LB                   |null               |Road Frames           |\n",
      "|723      |LL Road Frame - Black, 60  |FR-R38B-60   |True    |Black|500             |375         |204.6251    |337.22   |60  |CM                 |2.48  |LB                   |null               |Road Frames           |\n",
      "|724      |LL Road Frame - Black, 62  |FR-R38B-62   |True    |Black|500             |375         |204.6251    |337.22   |62  |CM                 |2.50  |LB                   |null               |Road Frames           |\n",
      "+---------+---------------------------+-------------+--------+-----+----------------+------------+------------+---------+----+-------------------+------+---------------------+-------------------+----------------------+\n",
      "only showing top 20 rows"
     ]
    }
   ],
   "source": [
    "df_raw_products.show(truncate=False)"
   ]
  },
  {
   "cell_type": "code",
   "execution_count": 9,
   "id": "4328d080-bbca-42ae-9120-732ad85e279f",
   "metadata": {},
   "outputs": [
    {
     "data": {
      "application/vnd.jupyter.widget-view+json": {
       "model_id": "",
       "version_major": 2,
       "version_minor": 0
      },
      "text/plain": [
       "FloatProgress(value=0.0, bar_style='info', description='Progress:', layout=Layout(height='25px', width='50%'),…"
      ]
     },
     "metadata": {},
     "output_type": "display_data"
    }
   ],
   "source": [
    "df_store_products = (\n",
    "    df_raw_products\n",
    "    .select(\n",
    "        df_raw_products.ProductID.cast('int').alias('pk_ProductID'),\n",
    "        df_raw_products.ProductDesc,\n",
    "        df_raw_products.ProductNumber,\n",
    "        df_raw_products.MakeFlag.cast('boolean'),\n",
    "        F.when(df_raw_products.Color.isNull(), F.lit('N/A')).otherwise(df_raw_products.Color).alias('Color'),\n",
    "        df_raw_products.SafetyStockLevel.cast('int'),\n",
    "        df_raw_products.ReorderPoint.cast('int'),\n",
    "        df_raw_products.StandardCost.cast('float'),\n",
    "        df_raw_products.ListPrice.cast('float'),\n",
    "        df_raw_products.Size,\n",
    "        df_raw_products.SizeUnitMeasureCode,\n",
    "        df_raw_products.Weight.cast('float'),\n",
    "        df_raw_products.WeightUnitMeasureCode,        \n",
    "        df_raw_products.ProductCategoryName,        \n",
    "        df_raw_products.ProductSubCategoryName,\n",
    "        F.current_timestamp().alias('loadDateTimeJob')\n",
    "    )    \n",
    ")"
   ]
  },
  {
   "cell_type": "code",
   "execution_count": 10,
   "id": "541ee2cb-0c7f-4dac-a426-67da8d56703f",
   "metadata": {},
   "outputs": [
    {
     "data": {
      "application/vnd.jupyter.widget-view+json": {
       "model_id": "",
       "version_major": 2,
       "version_minor": 0
      },
      "text/plain": [
       "FloatProgress(value=0.0, bar_style='info', description='Progress:', layout=Layout(height='25px', width='50%'),…"
      ]
     },
     "metadata": {},
     "output_type": "display_data"
    },
    {
     "name": "stdout",
     "output_type": "stream",
     "text": [
      "root\n",
      " |-- pk_ProductID: integer (nullable = true)\n",
      " |-- ProductDesc: string (nullable = true)\n",
      " |-- ProductNumber: string (nullable = true)\n",
      " |-- MakeFlag: boolean (nullable = true)\n",
      " |-- Color: string (nullable = true)\n",
      " |-- SafetyStockLevel: integer (nullable = true)\n",
      " |-- ReorderPoint: integer (nullable = true)\n",
      " |-- StandardCost: float (nullable = true)\n",
      " |-- ListPrice: float (nullable = true)\n",
      " |-- Size: string (nullable = true)\n",
      " |-- SizeUnitMeasureCode: string (nullable = true)\n",
      " |-- Weight: float (nullable = true)\n",
      " |-- WeightUnitMeasureCode: string (nullable = true)\n",
      " |-- ProductCategoryName: string (nullable = true)\n",
      " |-- ProductSubCategoryName: string (nullable = true)\n",
      " |-- loadDateTimeJob: timestamp (nullable = false)"
     ]
    }
   ],
   "source": [
    "df_store_products.printSchema()"
   ]
  },
  {
   "cell_type": "code",
   "execution_count": 12,
   "id": "3b306060-2f5a-4df8-9ae6-45498cfd2e2c",
   "metadata": {},
   "outputs": [
    {
     "data": {
      "application/vnd.jupyter.widget-view+json": {
       "model_id": "",
       "version_major": 2,
       "version_minor": 0
      },
      "text/plain": [
       "FloatProgress(value=0.0, bar_style='info', description='Progress:', layout=Layout(height='25px', width='50%'),…"
      ]
     },
     "metadata": {},
     "output_type": "display_data"
    }
   ],
   "source": [
    "spark.conf.set(\"spark.sql.sources.partitionOverwriteMode\", \"dynamic\")"
   ]
  },
  {
   "cell_type": "code",
   "execution_count": 13,
   "id": "10ffb0c2-8615-4d90-8826-a7cff3d69eb6",
   "metadata": {},
   "outputs": [
    {
     "data": {
      "application/vnd.jupyter.widget-view+json": {
       "model_id": "",
       "version_major": 2,
       "version_minor": 0
      },
      "text/plain": [
       "FloatProgress(value=0.0, bar_style='info', description='Progress:', layout=Layout(height='25px', width='50%'),…"
      ]
     },
     "metadata": {},
     "output_type": "display_data"
    }
   ],
   "source": [
    "(\n",
    "    df_store_products\n",
    "    .coalesce(1)\n",
    "    .write\n",
    "    .mode('overwrite')\n",
    "    .parquet(f\"./jupyter_workspace/{target_path}/store_{file_name}/\")\n",
    ")"
   ]
  },
  {
   "cell_type": "code",
   "execution_count": null,
   "id": "3e97aacd-6d46-486c-bf58-7106bdef6415",
   "metadata": {},
   "outputs": [],
   "source": []
  }
 ],
 "metadata": {
  "kernelspec": {
   "display_name": "PySpark",
   "language": "python",
   "name": "pysparkkernel"
  },
  "language_info": {
   "codemirror_mode": {
    "name": "python",
    "version": 3
   },
   "file_extension": ".py",
   "mimetype": "text/x-python",
   "name": "pyspark",
   "pygments_lexer": "python3"
  }
 },
 "nbformat": 4,
 "nbformat_minor": 5
}
