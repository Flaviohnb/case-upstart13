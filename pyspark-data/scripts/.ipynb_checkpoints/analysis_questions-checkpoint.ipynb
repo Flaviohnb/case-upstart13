{
 "cells": [
  {
   "cell_type": "code",
   "execution_count": 1,
   "id": "873ecd35-8405-492b-942c-05edf0ad187a",
   "metadata": {},
   "outputs": [
    {
     "name": "stdout",
     "output_type": "stream",
     "text": [
      "Starting Spark application\n"
     ]
    },
    {
     "data": {
      "text/html": [
       "<table>\n",
       "<tr><th>ID</th><th>YARN Application ID</th><th>Kind</th><th>State</th><th>Spark UI</th><th>Driver log</th><th>User</th><th>Current session?</th></tr><tr><td>0</td><td>None</td><td>pyspark</td><td>idle</td><td></td><td></td><td>None</td><td>✔</td></tr></table>"
      ],
      "text/plain": [
       "<IPython.core.display.HTML object>"
      ]
     },
     "metadata": {},
     "output_type": "display_data"
    },
    {
     "data": {
      "application/vnd.jupyter.widget-view+json": {
       "model_id": "",
       "version_major": 2,
       "version_minor": 0
      },
      "text/plain": [
       "FloatProgress(value=0.0, bar_style='info', description='Progress:', layout=Layout(height='25px', width='50%'),…"
      ]
     },
     "metadata": {},
     "output_type": "display_data"
    },
    {
     "name": "stdout",
     "output_type": "stream",
     "text": [
      "SparkSession available as 'spark'.\n"
     ]
    },
    {
     "data": {
      "application/vnd.jupyter.widget-view+json": {
       "model_id": "",
       "version_major": 2,
       "version_minor": 0
      },
      "text/plain": [
       "FloatProgress(value=0.0, bar_style='info', description='Progress:', layout=Layout(height='25px', width='50%'),…"
      ]
     },
     "metadata": {},
     "output_type": "display_data"
    }
   ],
   "source": [
    "from pyspark.sql import SparkSession, Window\n",
    "import pyspark.sql.functions as F\n",
    "import datetime\n",
    "import os"
   ]
  },
  {
   "cell_type": "code",
   "execution_count": 2,
   "id": "f133ef05-04e0-4f51-aa8c-2e913864372b",
   "metadata": {},
   "outputs": [
    {
     "data": {
      "application/vnd.jupyter.widget-view+json": {
       "model_id": "",
       "version_major": 2,
       "version_minor": 0
      },
      "text/plain": [
       "FloatProgress(value=0.0, bar_style='info', description='Progress:', layout=Layout(height='25px', width='50%'),…"
      ]
     },
     "metadata": {},
     "output_type": "display_data"
    }
   ],
   "source": [
    "df_publishOrders = (\n",
    "    spark\n",
    "    .read\n",
    "    .parquet(f\"./jupyter_workspace/datalake/enriched/publish_orders/*\")\n",
    ")"
   ]
  },
  {
   "cell_type": "code",
   "execution_count": 3,
   "id": "84d328fb-b707-401e-9efa-d0e39bfcebcc",
   "metadata": {},
   "outputs": [
    {
     "data": {
      "application/vnd.jupyter.widget-view+json": {
       "model_id": "",
       "version_major": 2,
       "version_minor": 0
      },
      "text/plain": [
       "FloatProgress(value=0.0, bar_style='info', description='Progress:', layout=Layout(height='25px', width='50%'),…"
      ]
     },
     "metadata": {},
     "output_type": "display_data"
    }
   ],
   "source": [
    "df_publishProduct = (\n",
    "    spark\n",
    "    .read\n",
    "    .parquet(f\"./jupyter_workspace/datalake/enriched/publish_product/*\")\n",
    ")"
   ]
  },
  {
   "cell_type": "code",
   "execution_count": null,
   "id": "9c0d9906-e627-46ba-8017-d56de70132a9",
   "metadata": {},
   "outputs": [],
   "source": []
  },
  {
   "cell_type": "code",
   "execution_count": 4,
   "id": "83188fd6-5db5-461a-a433-2d693072acaf",
   "metadata": {},
   "outputs": [
    {
     "data": {
      "application/vnd.jupyter.widget-view+json": {
       "model_id": "",
       "version_major": 2,
       "version_minor": 0
      },
      "text/plain": [
       "FloatProgress(value=0.0, bar_style='info', description='Progress:', layout=Layout(height='25px', width='50%'),…"
      ]
     },
     "metadata": {},
     "output_type": "display_data"
    },
    {
     "name": "stdout",
     "output_type": "stream",
     "text": [
      "+------------+------------------+--------+---------+---------+-----------------+----------+----------+---------------+--------------+----------+-------------+-----------------+----------------------+----------------------+\n",
      "|SalesOrderID|SalesOrderDetailID|OrderQty|ProductID|UnitPrice|UnitPriceDiscount|OrderDate |ShipDate  |OnlineOrderFlag|AccountNumber |CustomerID|SalesPersonID|TotalOrderFreight|LeadTimeInBusinessDays|TotalLineExtendedPrice|\n",
      "+------------+------------------+--------+---------+---------+-----------------+----------+----------+---------------+--------------+----------+-------------+-----------------+----------------------+----------------------+\n",
      "|43659       |10                |6       |709      |5.7      |0.0              |2021-05-31|2021-06-07|false          |10-4020-000676|29825     |279          |616.0984         |6                     |34.199997             |\n",
      "|43665       |69                |6       |709      |5.7      |0.0              |2021-05-31|2021-06-07|false          |10-4020-000146|29580     |283          |429.9821         |6                     |34.199997             |\n",
      "|43672       |126               |6       |709      |5.7      |0.0              |2021-05-31|2021-06-07|false          |10-4020-000119|30067     |282          |183.6257         |6                     |34.199997             |\n",
      "|43676       |154               |4       |709      |5.7      |0.0              |2021-05-31|2021-06-07|false          |10-4020-000017|29811     |275          |426.0206         |6                     |22.8                  |\n",
      "|43683       |242               |6       |709      |5.7      |0.0              |2021-05-31|2021-06-07|false          |10-4020-000506|29497     |283          |1283.484         |6                     |34.199997             |\n",
      "|43693       |325               |6       |709      |5.7      |0.0              |2021-05-31|2021-06-07|false          |10-4020-000485|29491     |275          |615.4864         |6                     |34.199997             |\n",
      "|43695       |350               |2       |709      |5.7      |0.0              |2021-05-31|2021-06-07|false          |10-4020-000027|29958     |279          |1183.5823        |6                     |11.4                  |\n",
      "|43843       |507               |2       |709      |5.7      |0.0              |2021-07-01|2021-07-08|false          |10-4020-000018|29955     |275          |991.9371         |6                     |11.4                  |\n",
      "|43856       |590               |2       |709      |5.7      |0.0              |2021-07-01|2021-07-08|false          |10-4020-000389|29680     |282          |61.0586          |6                     |11.4                  |\n",
      "|43862       |670               |4       |709      |5.7      |0.0              |2021-07-01|2021-07-08|false          |10-4020-000099|29945     |279          |933.7095         |6                     |22.8                  |\n",
      "|43866       |700               |2       |709      |5.7      |0.0              |2021-07-01|2021-07-08|false          |10-4020-000289|29571     |280          |122.2584         |6                     |11.4                  |\n",
      "|43867       |706               |2       |709      |5.7      |0.0              |2021-07-01|2021-07-08|false          |10-4020-000145|29582     |280          |984.1535         |6                     |11.4                  |\n",
      "|43875       |797               |2       |709      |5.7      |0.0              |2021-07-01|2021-07-08|false          |10-4020-000278|29624     |279          |3709.8447        |6                     |11.4                  |\n",
      "|43877       |825               |5       |709      |5.7      |0.0              |2021-07-01|2021-07-08|false          |10-4020-000073|29925     |280          |617.8489         |6                     |28.5                  |\n",
      "|43881       |881               |21      |709      |5.225    |0.05             |2021-07-01|2021-07-08|false          |10-4020-000346|30111     |277          |1164.2885        |6                     |108.674995            |\n",
      "|43884       |919               |4       |709      |5.7      |0.0              |2021-07-01|2021-07-08|false          |10-4020-000623|29861     |277          |3504.798         |6                     |22.8                  |\n",
      "|43885       |923               |8       |709      |5.7      |0.0              |2021-07-01|2021-07-08|false          |10-4020-000492|29757     |276          |1.8525           |6                     |45.6                  |\n",
      "|43890       |972               |4       |709      |5.7      |0.0              |2021-07-01|2021-07-08|false          |10-4020-000354|29515     |278          |2260.721         |6                     |22.8                  |\n",
      "|43891       |980               |4       |709      |5.7      |0.0              |2021-07-01|2021-07-08|false          |10-4020-000029|29807     |282          |976.9734         |6                     |22.8                  |\n",
      "|43894       |1002              |8       |709      |5.7      |0.0              |2021-07-01|2021-07-08|false          |10-4020-000559|30004     |280          |974.5952         |6                     |45.6                  |\n",
      "+------------+------------------+--------+---------+---------+-----------------+----------+----------+---------------+--------------+----------+-------------+-----------------+----------------------+----------------------+\n",
      "only showing top 20 rows"
     ]
    }
   ],
   "source": [
    "df_publishOrders.filter(F.col('ProductID').isin('709')).show(truncate=False)"
   ]
  },
  {
   "cell_type": "code",
   "execution_count": 5,
   "id": "3627e4eb-a885-4e7b-aeba-0ab022fcfda9",
   "metadata": {},
   "outputs": [
    {
     "data": {
      "application/vnd.jupyter.widget-view+json": {
       "model_id": "",
       "version_major": 2,
       "version_minor": 0
      },
      "text/plain": [
       "FloatProgress(value=0.0, bar_style='info', description='Progress:', layout=Layout(height='25px', width='50%'),…"
      ]
     },
     "metadata": {},
     "output_type": "display_data"
    },
    {
     "name": "stdout",
     "output_type": "stream",
     "text": [
      "+---------+----------------------+-------------+--------+-----+----------------+------------+------------+---------+----+-------------------+------+---------------------+-------------------+----------------------+\n",
      "|ProductID|ProductDesc           |ProductNumber|MakeFlag|Color|SafetyStockLevel|ReorderPoint|StandardCost|ListPrice|Size|SizeUnitMeasureCode|Weight|WeightUnitMeasureCode|ProductCategoryName|ProductSubCategoryName|\n",
      "+---------+----------------------+-------------+--------+-----+----------------+------------+------------+---------+----+-------------------+------+---------------------+-------------------+----------------------+\n",
      "|709      |Mountain Bike Socks, M|SO-B909-M    |false   |White|4               |3           |3.3963      |9.5      |M   |null               |null  |null                 |Clothing           |Socks                 |\n",
      "+---------+----------------------+-------------+--------+-----+----------------+------------+------------+---------+----+-------------------+------+---------------------+-------------------+----------------------+"
     ]
    }
   ],
   "source": [
    "df_publishProduct.filter(F.col('ProductID').isin('709')).show(truncate=False, n=5)"
   ]
  },
  {
   "cell_type": "markdown",
   "id": "c905553f-c9df-4e91-8d85-98b16f81709a",
   "metadata": {},
   "source": [
    "## Which color generated the highest revenue each year? "
   ]
  },
  {
   "cell_type": "code",
   "execution_count": 6,
   "id": "8808df96-468e-4b35-977d-1d3441913047",
   "metadata": {},
   "outputs": [
    {
     "data": {
      "application/vnd.jupyter.widget-view+json": {
       "model_id": "",
       "version_major": 2,
       "version_minor": 0
      },
      "text/plain": [
       "FloatProgress(value=0.0, bar_style='info', description='Progress:', layout=Layout(height='25px', width='50%'),…"
      ]
     },
     "metadata": {},
     "output_type": "display_data"
    },
    {
     "name": "stdout",
     "output_type": "stream",
     "text": [
      "+------+--------------+-------------------------+\n",
      "| Color|year_OrderDate|HighestRevenue_Color_Year|\n",
      "+------+--------------+-------------------------+\n",
      "|Yellow|          2024|        6480746.113510132|\n",
      "| Black|          2023|     1.5047694391397476E7|\n",
      "| Black|          2022|     1.4005242933278084E7|\n",
      "|   Red|          2021|        6019614.002418518|\n",
      "+------+--------------+-------------------------+"
     ]
    }
   ],
   "source": [
    "window_spec = Window.partitionBy(\"year_OrderDate\").orderBy(F.col(\"HighestRevenue_Color_Year\").desc())\n",
    "\n",
    "(\n",
    "    df_publishOrders\n",
    "    .join(df_publishProduct, df_publishProduct.ProductID == df_publishOrders.ProductID, how='left')\n",
    "    .groupBy(\n",
    "        df_publishProduct.Color,\n",
    "        F.year(df_publishOrders.OrderDate).alias('year_OrderDate')\n",
    "    )\n",
    "    .agg(\n",
    "        F.sum(df_publishOrders.TotalLineExtendedPrice).alias('HighestRevenue_Color_Year')\n",
    "    )\n",
    "    .withColumn(\"rn\", F.row_number().over(window_spec)).filter(F.col(\"rn\") == 1).drop(\"rn\")\n",
    "    .orderBy(F.col('year_OrderDate').desc())\n",
    ").show()"
   ]
  },
  {
   "cell_type": "markdown",
   "id": "97fb4869-6bc5-436b-b22c-5c64cea63cd6",
   "metadata": {},
   "source": [
    "## What is the average LeadTimeInBusinessDays by ProductCategoryName? "
   ]
  },
  {
   "cell_type": "code",
   "execution_count": 7,
   "id": "8b350cf6-b430-4dd9-a9bf-7b9d88e42daf",
   "metadata": {},
   "outputs": [
    {
     "data": {
      "application/vnd.jupyter.widget-view+json": {
       "model_id": "",
       "version_major": 2,
       "version_minor": 0
      },
      "text/plain": [
       "FloatProgress(value=0.0, bar_style='info', description='Progress:', layout=Layout(height='25px', width='50%'),…"
      ]
     },
     "metadata": {},
     "output_type": "display_data"
    },
    {
     "name": "stdout",
     "output_type": "stream",
     "text": [
      "+-------------------+--------------------------+\n",
      "|ProductCategoryName|avg_LeadTimeInBusinessDays|\n",
      "+-------------------+--------------------------+\n",
      "|              Bikes|         5.667897567632656|\n",
      "|               null|         5.717621086432968|\n",
      "|           Clothing|         5.709380234505863|\n",
      "|        Accessories|         5.702787804316105|\n",
      "|         Components|         5.667113624438874|\n",
      "+-------------------+--------------------------+"
     ]
    }
   ],
   "source": [
    "(\n",
    "    df_publishOrders\n",
    "    .join(df_publishProduct, df_publishProduct.ProductID == df_publishOrders.ProductID, how='left')    \n",
    "    .groupBy(df_publishProduct.ProductCategoryName)\n",
    "    .agg(F.avg(df_publishOrders.LeadTimeInBusinessDays).alias('avg_LeadTimeInBusinessDays'))\n",
    ").show()"
   ]
  },
  {
   "cell_type": "code",
   "execution_count": null,
   "id": "bcad38cd-f049-4aa1-a042-cb4f8b0f1f82",
   "metadata": {},
   "outputs": [],
   "source": []
  }
 ],
 "metadata": {
  "kernelspec": {
   "display_name": "PySpark",
   "language": "python",
   "name": "pysparkkernel"
  },
  "language_info": {
   "codemirror_mode": {
    "name": "python",
    "version": 3
   },
   "file_extension": ".py",
   "mimetype": "text/x-python",
   "name": "pyspark",
   "pygments_lexer": "python3"
  }
 },
 "nbformat": 4,
 "nbformat_minor": 5
}
