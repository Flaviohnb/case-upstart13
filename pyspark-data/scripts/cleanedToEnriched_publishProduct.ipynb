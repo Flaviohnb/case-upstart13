{
 "cells": [
  {
   "cell_type": "code",
   "execution_count": 4,
   "id": "873ecd35-8405-492b-942c-05edf0ad187a",
   "metadata": {},
   "outputs": [
    {
     "data": {
      "application/vnd.jupyter.widget-view+json": {
       "model_id": "",
       "version_major": 2,
       "version_minor": 0
      },
      "text/plain": [
       "FloatProgress(value=0.0, bar_style='info', description='Progress:', layout=Layout(height='25px', width='50%'),…"
      ]
     },
     "metadata": {},
     "output_type": "display_data"
    }
   ],
   "source": [
    "from pyspark.sql import SparkSession\n",
    "\n",
    "import pyspark.sql.functions as F\n",
    "import datetime\n",
    "import os"
   ]
  },
  {
   "cell_type": "code",
   "execution_count": 5,
   "id": "d3d054b8-40a7-4ddb-b4df-1928f5c14b55",
   "metadata": {},
   "outputs": [
    {
     "data": {
      "application/vnd.jupyter.widget-view+json": {
       "model_id": "",
       "version_major": 2,
       "version_minor": 0
      },
      "text/plain": [
       "FloatProgress(value=0.0, bar_style='info', description='Progress:', layout=Layout(height='25px', width='50%'),…"
      ]
     },
     "metadata": {},
     "output_type": "display_data"
    }
   ],
   "source": [
    "source_path = 'datalake/cleaned'\n",
    "target_path = 'datalake/enriched'"
   ]
  },
  {
   "cell_type": "code",
   "execution_count": 9,
   "id": "f133ef05-04e0-4f51-aa8c-2e913864372b",
   "metadata": {},
   "outputs": [
    {
     "data": {
      "application/vnd.jupyter.widget-view+json": {
       "model_id": "",
       "version_major": 2,
       "version_minor": 0
      },
      "text/plain": [
       "FloatProgress(value=0.0, bar_style='info', description='Progress:', layout=Layout(height='25px', width='50%'),…"
      ]
     },
     "metadata": {},
     "output_type": "display_data"
    }
   ],
   "source": [
    "df_store_products = (\n",
    "    spark\n",
    "    .read\n",
    "    .parquet(f\"./jupyter_workspace/{source_path}/store_products-1-1-/*\")\n",
    ")"
   ]
  },
  {
   "cell_type": "code",
   "execution_count": 13,
   "id": "ca47a6ef-00f5-4bd9-982e-66e27fa38b52",
   "metadata": {},
   "outputs": [
    {
     "data": {
      "application/vnd.jupyter.widget-view+json": {
       "model_id": "",
       "version_major": 2,
       "version_minor": 0
      },
      "text/plain": [
       "FloatProgress(value=0.0, bar_style='info', description='Progress:', layout=Layout(height='25px', width='50%'),…"
      ]
     },
     "metadata": {},
     "output_type": "display_data"
    }
   ],
   "source": [
    "df_enriched_products = (\n",
    "    df_store_products\n",
    "    .select(\n",
    "        df_store_products.ProductID,\n",
    "        df_store_products.ProductDesc,\n",
    "        df_store_products.ProductNumber,\n",
    "        df_store_products.MakeFlag,\n",
    "        F.when(df_store_products.Color.isNull(), F.lit('N/A')).otherwise(df_store_products.Color).alias('Color'),\n",
    "        df_store_products.SafetyStockLevel,\n",
    "        df_store_products.ReorderPoint,\n",
    "        df_store_products.StandardCost,\n",
    "        df_store_products.ListPrice,\n",
    "        df_store_products.Size,\n",
    "        df_store_products.SizeUnitMeasureCode,\n",
    "        df_store_products.Weight,\n",
    "        df_store_products.WeightUnitMeasureCode,        \n",
    "        F.when(df_store_products.ProductCategoryName.isNull() & df_store_products.ProductSubCategoryName.isin('Gloves', 'Shorts', 'Socks', 'Tights', 'Vests'), F.lit('Clothing'))\n",
    "         .when(df_store_products.ProductCategoryName.isNull() & df_store_products.ProductSubCategoryName.isin('Locks', 'Lights', 'Headsets', 'Helmets', 'Pedals', 'Pumps'), F.lit('Accessories'))\n",
    "         .when(df_store_products.ProductCategoryName.isNull() & df_store_products.ProductSubCategoryName.isin('Wheels', 'Saddles') | df_store_products.ProductSubCategoryName.contains('Frames'), F.lit('Components'))\n",
    "         .otherwise(df_store_products.ProductCategoryName).alias('ProductCategoryName'),        \n",
    "        df_store_products.ProductSubCategoryName\n",
    "    )\n",
    ")"
   ]
  },
  {
   "cell_type": "code",
   "execution_count": 14,
   "id": "3b306060-2f5a-4df8-9ae6-45498cfd2e2c",
   "metadata": {},
   "outputs": [
    {
     "data": {
      "application/vnd.jupyter.widget-view+json": {
       "model_id": "",
       "version_major": 2,
       "version_minor": 0
      },
      "text/plain": [
       "FloatProgress(value=0.0, bar_style='info', description='Progress:', layout=Layout(height='25px', width='50%'),…"
      ]
     },
     "metadata": {},
     "output_type": "display_data"
    }
   ],
   "source": [
    "spark.conf.set(\"spark.sql.sources.partitionOverwriteMode\", \"dynamic\")"
   ]
  },
  {
   "cell_type": "code",
   "execution_count": 15,
   "id": "10ffb0c2-8615-4d90-8826-a7cff3d69eb6",
   "metadata": {},
   "outputs": [
    {
     "data": {
      "application/vnd.jupyter.widget-view+json": {
       "model_id": "",
       "version_major": 2,
       "version_minor": 0
      },
      "text/plain": [
       "FloatProgress(value=0.0, bar_style='info', description='Progress:', layout=Layout(height='25px', width='50%'),…"
      ]
     },
     "metadata": {},
     "output_type": "display_data"
    }
   ],
   "source": [
    "(\n",
    "    df_enriched_products\n",
    "    .coalesce(1)\n",
    "    .write\n",
    "    .mode('overwrite')\n",
    "    .parquet(f\"./jupyter_workspace/{target_path}/publish_product/\")\n",
    ")"
   ]
  },
  {
   "cell_type": "code",
   "execution_count": null,
   "id": "8b350cf6-b430-4dd9-a9bf-7b9d88e42daf",
   "metadata": {},
   "outputs": [],
   "source": []
  }
 ],
 "metadata": {
  "kernelspec": {
   "display_name": "PySpark",
   "language": "python",
   "name": "pysparkkernel"
  },
  "language_info": {
   "codemirror_mode": {
    "name": "python",
    "version": 3
   },
   "file_extension": ".py",
   "mimetype": "text/x-python",
   "name": "pyspark",
   "pygments_lexer": "python3"
  }
 },
 "nbformat": 4,
 "nbformat_minor": 5
}
