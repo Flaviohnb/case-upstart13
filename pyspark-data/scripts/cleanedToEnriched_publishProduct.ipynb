{
 "cells": [
  {
   "cell_type": "code",
   "execution_count": 1,
   "id": "873ecd35-8405-492b-942c-05edf0ad187a",
   "metadata": {},
   "outputs": [
    {
     "name": "stdout",
     "output_type": "stream",
     "text": [
      "Starting Spark application\n"
     ]
    },
    {
     "data": {
      "text/html": [
       "<table>\n",
       "<tr><th>ID</th><th>YARN Application ID</th><th>Kind</th><th>State</th><th>Spark UI</th><th>Driver log</th><th>User</th><th>Current session?</th></tr><tr><td>5</td><td>None</td><td>pyspark</td><td>idle</td><td></td><td></td><td>None</td><td>✔</td></tr></table>"
      ],
      "text/plain": [
       "<IPython.core.display.HTML object>"
      ]
     },
     "metadata": {},
     "output_type": "display_data"
    },
    {
     "data": {
      "application/vnd.jupyter.widget-view+json": {
       "model_id": "",
       "version_major": 2,
       "version_minor": 0
      },
      "text/plain": [
       "FloatProgress(value=0.0, bar_style='info', description='Progress:', layout=Layout(height='25px', width='50%'),…"
      ]
     },
     "metadata": {},
     "output_type": "display_data"
    },
    {
     "name": "stdout",
     "output_type": "stream",
     "text": [
      "SparkSession available as 'spark'.\n"
     ]
    },
    {
     "data": {
      "application/vnd.jupyter.widget-view+json": {
       "model_id": "",
       "version_major": 2,
       "version_minor": 0
      },
      "text/plain": [
       "FloatProgress(value=0.0, bar_style='info', description='Progress:', layout=Layout(height='25px', width='50%'),…"
      ]
     },
     "metadata": {},
     "output_type": "display_data"
    }
   ],
   "source": [
    "from pyspark.sql import SparkSession\n",
    "\n",
    "import pyspark.sql.functions as F\n",
    "import datetime\n",
    "import os"
   ]
  },
  {
   "cell_type": "code",
   "execution_count": 2,
   "id": "d3d054b8-40a7-4ddb-b4df-1928f5c14b55",
   "metadata": {},
   "outputs": [
    {
     "data": {
      "application/vnd.jupyter.widget-view+json": {
       "model_id": "",
       "version_major": 2,
       "version_minor": 0
      },
      "text/plain": [
       "FloatProgress(value=0.0, bar_style='info', description='Progress:', layout=Layout(height='25px', width='50%'),…"
      ]
     },
     "metadata": {},
     "output_type": "display_data"
    }
   ],
   "source": [
    "source_path = 'datalake/cleaned'\n",
    "target_path = 'datalake/enriched'"
   ]
  },
  {
   "cell_type": "code",
   "execution_count": 3,
   "id": "f133ef05-04e0-4f51-aa8c-2e913864372b",
   "metadata": {},
   "outputs": [
    {
     "data": {
      "application/vnd.jupyter.widget-view+json": {
       "model_id": "",
       "version_major": 2,
       "version_minor": 0
      },
      "text/plain": [
       "FloatProgress(value=0.0, bar_style='info', description='Progress:', layout=Layout(height='25px', width='50%'),…"
      ]
     },
     "metadata": {},
     "output_type": "display_data"
    }
   ],
   "source": [
    "df_store_products = (\n",
    "    spark\n",
    "    .read\n",
    "    .parquet(f\"./jupyter_workspace/{source_path}/store_products-1-1-/*\")\n",
    ")"
   ]
  },
  {
   "cell_type": "code",
   "execution_count": 6,
   "id": "d64c40c5-dba5-4ccc-b1d2-b41f2a62550f",
   "metadata": {},
   "outputs": [
    {
     "data": {
      "application/vnd.jupyter.widget-view+json": {
       "model_id": "",
       "version_major": 2,
       "version_minor": 0
      },
      "text/plain": [
       "FloatProgress(value=0.0, bar_style='info', description='Progress:', layout=Layout(height='25px', width='50%'),…"
      ]
     },
     "metadata": {},
     "output_type": "display_data"
    },
    {
     "name": "stdout",
     "output_type": "stream",
     "text": [
      "+------------+--------------------+-------------+--------+-----+----------------+------------+------------+---------+----+-------------------+------+---------------------+-------------------+----------------------+--------------------+\n",
      "|pk_ProductID|         ProductDesc|ProductNumber|MakeFlag|Color|SafetyStockLevel|ReorderPoint|StandardCost|ListPrice|Size|SizeUnitMeasureCode|Weight|WeightUnitMeasureCode|ProductCategoryName|ProductSubCategoryName|     loadDateTimeJob|\n",
      "+------------+--------------------+-------------+--------+-----+----------------+------------+------------+---------+----+-------------------+------+---------------------+-------------------+----------------------+--------------------+\n",
      "|         680|HL Road Frame - B...|   FR-R92B-58|    true|Black|             500|         375|     1059.31|   1431.5|  58|                CM |  2.24|                  LB |               null|           Road Frames|2025-04-18 12:46:...|\n",
      "|         706|HL Road Frame - R...|   FR-R92R-58|    true|  Red|             500|         375|     1059.31|   1431.5|  58|                CM |  2.24|                  LB |               null|           Road Frames|2025-04-18 12:46:...|\n",
      "|         707|Sport-100 Helmet,...|    HL-U509-R|   false|  Red|               4|           3|     13.0863|    34.99|null|               null|  null|                 null|               null|               Helmets|2025-04-18 12:46:...|\n",
      "|         708|Sport-100 Helmet,...|      HL-U509|   false|Black|               4|           3|     13.0863|    34.99|null|               null|  null|                 null|               null|               Helmets|2025-04-18 12:46:...|\n",
      "|         709|Mountain Bike Soc...|    SO-B909-M|   false|White|               4|           3|      3.3963|      9.5|   M|               null|  null|                 null|               null|                 Socks|2025-04-18 12:46:...|\n",
      "|         710|Mountain Bike Soc...|    SO-B909-L|   false|White|               4|           3|      3.3963|      9.5|   L|               null|  null|                 null|               null|                 Socks|2025-04-18 12:46:...|\n",
      "|         711|Sport-100 Helmet,...|    HL-U509-B|   false| Blue|               4|           3|     13.0863|    34.99|null|               null|  null|                 null|               null|               Helmets|2025-04-18 12:46:...|\n",
      "|         712|        AWC Logo Cap|      CA-1098|   false|Multi|               4|           3|      6.9223|     8.99|null|               null|  null|                 null|               null|                  Caps|2025-04-18 12:46:...|\n",
      "|         713|Long-Sleeve Logo ...|    LJ-0192-S|   false|Multi|               4|           3|     38.4923|    49.99|   S|               null|  null|                 null|               null|               Jerseys|2025-04-18 12:46:...|\n",
      "|         714|Long-Sleeve Logo ...|    LJ-0192-M|   false|Multi|               4|           3|     38.4923|    49.99|   M|               null|  null|                 null|               null|               Jerseys|2025-04-18 12:46:...|\n",
      "|         715|Long-Sleeve Logo ...|    LJ-0192-L|   false|Multi|               4|           3|     38.4923|    49.99|   L|               null|  null|                 null|               null|               Jerseys|2025-04-18 12:46:...|\n",
      "|         716|Long-Sleeve Logo ...|    LJ-0192-X|   false|Multi|               4|           3|     38.4923|    49.99|  XL|               null|  null|                 null|               null|               Jerseys|2025-04-18 12:46:...|\n",
      "|         717|HL Road Frame - R...|   FR-R92R-62|    true|  Red|             500|         375|    868.6342|   1431.5|  62|                CM |   2.3|                  LB |               null|           Road Frames|2025-04-18 12:46:...|\n",
      "|         718|HL Road Frame - R...|   FR-R92R-44|    true|  Red|             500|         375|    868.6342|   1431.5|  44|                CM |  2.12|                  LB |               null|           Road Frames|2025-04-18 12:46:...|\n",
      "|         719|HL Road Frame - R...|   FR-R92R-48|    true|  Red|             500|         375|    868.6342|   1431.5|  48|                CM |  2.16|                  LB |               null|           Road Frames|2025-04-18 12:46:...|\n",
      "|         720|HL Road Frame - R...|   FR-R92R-52|    true|  Red|             500|         375|    868.6342|   1431.5|  52|                CM |   2.2|                  LB |               null|           Road Frames|2025-04-18 12:46:...|\n",
      "|         721|HL Road Frame - R...|   FR-R92R-56|    true|  Red|             500|         375|    868.6342|   1431.5|  56|                CM |  2.24|                  LB |               null|           Road Frames|2025-04-18 12:46:...|\n",
      "|         722|LL Road Frame - B...|   FR-R38B-58|    true|Black|             500|         375|    204.6251|   337.22|  58|                CM |  2.46|                  LB |               null|           Road Frames|2025-04-18 12:46:...|\n",
      "|         723|LL Road Frame - B...|   FR-R38B-60|    true|Black|             500|         375|    204.6251|   337.22|  60|                CM |  2.48|                  LB |               null|           Road Frames|2025-04-18 12:46:...|\n",
      "|         724|LL Road Frame - B...|   FR-R38B-62|    true|Black|             500|         375|    204.6251|   337.22|  62|                CM |   2.5|                  LB |               null|           Road Frames|2025-04-18 12:46:...|\n",
      "+------------+--------------------+-------------+--------+-----+----------------+------------+------------+---------+----+-------------------+------+---------------------+-------------------+----------------------+--------------------+\n",
      "only showing top 20 rows"
     ]
    }
   ],
   "source": [
    "df_store_products.show()"
   ]
  },
  {
   "cell_type": "code",
   "execution_count": 7,
   "id": "ca47a6ef-00f5-4bd9-982e-66e27fa38b52",
   "metadata": {},
   "outputs": [
    {
     "data": {
      "application/vnd.jupyter.widget-view+json": {
       "model_id": "",
       "version_major": 2,
       "version_minor": 0
      },
      "text/plain": [
       "FloatProgress(value=0.0, bar_style='info', description='Progress:', layout=Layout(height='25px', width='50%'),…"
      ]
     },
     "metadata": {},
     "output_type": "display_data"
    }
   ],
   "source": [
    "df_enriched_products = (\n",
    "    df_store_products\n",
    "    .select(\n",
    "        df_store_products.pk_ProductID,\n",
    "        df_store_products.ProductDesc,\n",
    "        df_store_products.ProductNumber,\n",
    "        df_store_products.MakeFlag,\n",
    "        F.when(df_store_products.Color.isNull(), F.lit('N/A')).otherwise(df_store_products.Color).alias('Color'),\n",
    "        df_store_products.SafetyStockLevel,\n",
    "        df_store_products.ReorderPoint,\n",
    "        df_store_products.StandardCost,\n",
    "        df_store_products.ListPrice,\n",
    "        df_store_products.Size,\n",
    "        df_store_products.SizeUnitMeasureCode,\n",
    "        df_store_products.Weight,\n",
    "        df_store_products.WeightUnitMeasureCode,        \n",
    "        F.when(df_store_products.ProductCategoryName.isNull() & df_store_products.ProductSubCategoryName.isin('Gloves', 'Shorts', 'Socks', 'Tights', 'Vests'), F.lit('Clothing'))\n",
    "         .when(df_store_products.ProductCategoryName.isNull() & df_store_products.ProductSubCategoryName.isin('Locks', 'Lights', 'Headsets', 'Helmets', 'Pedals', 'Pumps'), F.lit('Accessories'))\n",
    "         .when(df_store_products.ProductCategoryName.isNull() & df_store_products.ProductSubCategoryName.isin('Wheels', 'Saddles') | df_store_products.ProductSubCategoryName.contains('Frames'), F.lit('Components'))\n",
    "         .otherwise(df_store_products.ProductCategoryName).alias('ProductCategoryName'),        \n",
    "        df_store_products.ProductSubCategoryName\n",
    "    )\n",
    ")"
   ]
  },
  {
   "cell_type": "code",
   "execution_count": 8,
   "id": "3b306060-2f5a-4df8-9ae6-45498cfd2e2c",
   "metadata": {},
   "outputs": [
    {
     "data": {
      "application/vnd.jupyter.widget-view+json": {
       "model_id": "",
       "version_major": 2,
       "version_minor": 0
      },
      "text/plain": [
       "FloatProgress(value=0.0, bar_style='info', description='Progress:', layout=Layout(height='25px', width='50%'),…"
      ]
     },
     "metadata": {},
     "output_type": "display_data"
    }
   ],
   "source": [
    "spark.conf.set(\"spark.sql.sources.partitionOverwriteMode\", \"dynamic\")"
   ]
  },
  {
   "cell_type": "code",
   "execution_count": 9,
   "id": "10ffb0c2-8615-4d90-8826-a7cff3d69eb6",
   "metadata": {},
   "outputs": [
    {
     "data": {
      "application/vnd.jupyter.widget-view+json": {
       "model_id": "",
       "version_major": 2,
       "version_minor": 0
      },
      "text/plain": [
       "FloatProgress(value=0.0, bar_style='info', description='Progress:', layout=Layout(height='25px', width='50%'),…"
      ]
     },
     "metadata": {},
     "output_type": "display_data"
    }
   ],
   "source": [
    "(\n",
    "    df_enriched_products\n",
    "    .coalesce(1)\n",
    "    .write\n",
    "    .mode('overwrite')\n",
    "    .parquet(f\"./jupyter_workspace/{target_path}/publish_product/\")\n",
    ")"
   ]
  },
  {
   "cell_type": "code",
   "execution_count": null,
   "id": "8b350cf6-b430-4dd9-a9bf-7b9d88e42daf",
   "metadata": {},
   "outputs": [],
   "source": []
  }
 ],
 "metadata": {
  "kernelspec": {
   "display_name": "PySpark",
   "language": "python",
   "name": "pysparkkernel"
  },
  "language_info": {
   "codemirror_mode": {
    "name": "python",
    "version": 3
   },
   "file_extension": ".py",
   "mimetype": "text/x-python",
   "name": "pyspark",
   "pygments_lexer": "python3"
  }
 },
 "nbformat": 4,
 "nbformat_minor": 5
}
