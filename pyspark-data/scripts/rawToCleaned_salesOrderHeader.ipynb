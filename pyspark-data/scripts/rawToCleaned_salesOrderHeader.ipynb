{
 "cells": [
  {
   "cell_type": "code",
   "execution_count": 1,
   "id": "873ecd35-8405-492b-942c-05edf0ad187a",
   "metadata": {},
   "outputs": [
    {
     "name": "stdout",
     "output_type": "stream",
     "text": [
      "Starting Spark application\n"
     ]
    },
    {
     "data": {
      "text/html": [
       "<table>\n",
       "<tr><th>ID</th><th>YARN Application ID</th><th>Kind</th><th>State</th><th>Spark UI</th><th>Driver log</th><th>User</th><th>Current session?</th></tr><tr><td>3</td><td>None</td><td>pyspark</td><td>idle</td><td></td><td></td><td>None</td><td>✔</td></tr></table>"
      ],
      "text/plain": [
       "<IPython.core.display.HTML object>"
      ]
     },
     "metadata": {},
     "output_type": "display_data"
    },
    {
     "data": {
      "application/vnd.jupyter.widget-view+json": {
       "model_id": "",
       "version_major": 2,
       "version_minor": 0
      },
      "text/plain": [
       "FloatProgress(value=0.0, bar_style='info', description='Progress:', layout=Layout(height='25px', width='50%'),…"
      ]
     },
     "metadata": {},
     "output_type": "display_data"
    },
    {
     "name": "stdout",
     "output_type": "stream",
     "text": [
      "SparkSession available as 'spark'.\n"
     ]
    },
    {
     "data": {
      "application/vnd.jupyter.widget-view+json": {
       "model_id": "",
       "version_major": 2,
       "version_minor": 0
      },
      "text/plain": [
       "FloatProgress(value=0.0, bar_style='info', description='Progress:', layout=Layout(height='25px', width='50%'),…"
      ]
     },
     "metadata": {},
     "output_type": "display_data"
    }
   ],
   "source": [
    "from pyspark.sql import SparkSession\n",
    "\n",
    "import pyspark.sql.functions as F\n",
    "import datetime\n",
    "import os"
   ]
  },
  {
   "cell_type": "code",
   "execution_count": 2,
   "id": "d3d054b8-40a7-4ddb-b4df-1928f5c14b55",
   "metadata": {},
   "outputs": [
    {
     "data": {
      "application/vnd.jupyter.widget-view+json": {
       "model_id": "",
       "version_major": 2,
       "version_minor": 0
      },
      "text/plain": [
       "FloatProgress(value=0.0, bar_style='info', description='Progress:', layout=Layout(height='25px', width='50%'),…"
      ]
     },
     "metadata": {},
     "output_type": "display_data"
    }
   ],
   "source": [
    "source_path = 'datalake/raw'\n",
    "file_name = 'sales-order-header-1-1-'\n",
    "target_path = 'datalake/cleaned'"
   ]
  },
  {
   "cell_type": "code",
   "execution_count": 3,
   "id": "f133ef05-04e0-4f51-aa8c-2e913864372b",
   "metadata": {},
   "outputs": [
    {
     "data": {
      "application/vnd.jupyter.widget-view+json": {
       "model_id": "",
       "version_major": 2,
       "version_minor": 0
      },
      "text/plain": [
       "FloatProgress(value=0.0, bar_style='info', description='Progress:', layout=Layout(height='25px', width='50%'),…"
      ]
     },
     "metadata": {},
     "output_type": "display_data"
    }
   ],
   "source": [
    "df_raw_salesOrderHeader = (\n",
    "    spark\n",
    "    .read\n",
    "    .format(\"csv\")\n",
    "    .option(\"header\",True)\n",
    "    .load(f\"./jupyter_workspace/{source_path}/raw_{file_name}.csv\")\n",
    ")"
   ]
  },
  {
   "cell_type": "code",
   "execution_count": 4,
   "id": "2a091017-69e1-4694-ba37-f9072e423c65",
   "metadata": {},
   "outputs": [
    {
     "data": {
      "application/vnd.jupyter.widget-view+json": {
       "model_id": "",
       "version_major": 2,
       "version_minor": 0
      },
      "text/plain": [
       "FloatProgress(value=0.0, bar_style='info', description='Progress:', layout=Layout(height='25px', width='50%'),…"
      ]
     },
     "metadata": {},
     "output_type": "display_data"
    },
    {
     "name": "stdout",
     "output_type": "stream",
     "text": [
      "root\n",
      " |-- SalesOrderID: string (nullable = true)\n",
      " |-- OrderDate: string (nullable = true)\n",
      " |-- ShipDate: string (nullable = true)\n",
      " |-- OnlineOrderFlag: string (nullable = true)\n",
      " |-- AccountNumber: string (nullable = true)\n",
      " |-- CustomerID: string (nullable = true)\n",
      " |-- SalesPersonID: string (nullable = true)\n",
      " |-- Freight: string (nullable = true)"
     ]
    }
   ],
   "source": [
    "df_raw_salesOrderHeader.printSchema()"
   ]
  },
  {
   "cell_type": "code",
   "execution_count": 5,
   "id": "6bb7e1fe-4126-4736-b7a3-13d9ff1d8322",
   "metadata": {},
   "outputs": [
    {
     "data": {
      "application/vnd.jupyter.widget-view+json": {
       "model_id": "",
       "version_major": 2,
       "version_minor": 0
      },
      "text/plain": [
       "FloatProgress(value=0.0, bar_style='info', description='Progress:', layout=Layout(height='25px', width='50%'),…"
      ]
     },
     "metadata": {},
     "output_type": "display_data"
    },
    {
     "name": "stdout",
     "output_type": "stream",
     "text": [
      "+------------+----------+----------+---------------+--------------+----------+-------------+---------+\n",
      "|SalesOrderID|OrderDate |ShipDate  |OnlineOrderFlag|AccountNumber |CustomerID|SalesPersonID|Freight  |\n",
      "+------------+----------+----------+---------------+--------------+----------+-------------+---------+\n",
      "|43828       |2021-06   |2021-07-05|True           |10-4030-027605|27605     |null         |89.4568  |\n",
      "|43829       |2021-06   |2021-07-05|True           |10-4030-027611|27611     |null         |89.4568  |\n",
      "|43830       |2021-06   |2021-07-05|True           |10-4030-016347|16347     |null         |89.4568  |\n",
      "|43831       |2021-06   |2021-07-05|True           |10-4030-011028|11028     |null         |84.3748  |\n",
      "|43832       |2021-06   |2021-07-05|True           |10-4030-013584|13584     |null         |89.4568  |\n",
      "|43659       |2021-05-31|2021-06-07|False          |10-4020-000676|29825     |279          |616.0984 |\n",
      "|43660       |2021-05-31|2021-06-07|False          |10-4020-000117|29672     |279          |38.8276  |\n",
      "|43661       |2021-05-31|2021-06-07|False          |10-4020-000442|29734     |282          |985.553  |\n",
      "|43662       |2021-05-31|2021-06-07|False          |10-4020-000227|29994     |282          |867.2389 |\n",
      "|43663       |2021-05-31|2021-06-07|False          |10-4020-000510|29565     |276          |12.5838  |\n",
      "|43664       |2021-05-31|2021-06-07|False          |10-4020-000397|29898     |280          |732.81   |\n",
      "|43665       |2021-05-31|2021-06-07|False          |10-4020-000146|29580     |283          |429.9821 |\n",
      "|43666       |2021-05-31|2021-06-07|False          |10-4020-000511|30052     |276          |151.9921 |\n",
      "|43667       |2021-05-31|2021-06-07|False          |10-4020-000646|29974     |277          |183.1626 |\n",
      "|43668       |2021-05-31|2021-06-07|False          |10-4020-000514|29614     |282          |1081.8017|\n",
      "|43669       |2021-05-31|2021-06-07|False          |10-4020-000578|29747     |283          |22.0367  |\n",
      "|43670       |2021-05-31|2021-06-07|False          |10-4020-000504|29566     |275          |183.6126 |\n",
      "|43671       |2021-05-31|2021-06-07|False          |10-4020-000200|29890     |283          |244.0042 |\n",
      "|43672       |2021-05-31|2021-06-07|False          |10-4020-000119|30067     |282          |183.6257 |\n",
      "|43673       |2021-05-31|2021-06-07|False          |10-4020-000618|29844     |275          |111.8629 |\n",
      "+------------+----------+----------+---------------+--------------+----------+-------------+---------+\n",
      "only showing top 20 rows"
     ]
    }
   ],
   "source": [
    "df_raw_salesOrderHeader.show(truncate=False)"
   ]
  },
  {
   "cell_type": "code",
   "execution_count": 6,
   "id": "4328d080-bbca-42ae-9120-732ad85e279f",
   "metadata": {},
   "outputs": [
    {
     "data": {
      "application/vnd.jupyter.widget-view+json": {
       "model_id": "",
       "version_major": 2,
       "version_minor": 0
      },
      "text/plain": [
       "FloatProgress(value=0.0, bar_style='info', description='Progress:', layout=Layout(height='25px', width='50%'),…"
      ]
     },
     "metadata": {},
     "output_type": "display_data"
    }
   ],
   "source": [
    "df_store_salesOrderHeader = (\n",
    "    df_raw_salesOrderHeader    \n",
    "    .select(\n",
    "        df_raw_salesOrderHeader.SalesOrderID,\n",
    "        df_raw_salesOrderHeader.OrderDate.cast('date'),\n",
    "        df_raw_salesOrderHeader.ShipDate.cast('date'),\n",
    "        df_raw_salesOrderHeader.OnlineOrderFlag.cast('boolean'),\n",
    "        df_raw_salesOrderHeader.AccountNumber,\n",
    "        df_raw_salesOrderHeader.CustomerID,\n",
    "        df_raw_salesOrderHeader.SalesPersonID,\n",
    "        df_raw_salesOrderHeader.Freight.cast('float'),\n",
    "        F.current_timestamp().alias('loadDateTimeJob')\n",
    "    )\n",
    ")"
   ]
  },
  {
   "cell_type": "code",
   "execution_count": 7,
   "id": "541ee2cb-0c7f-4dac-a426-67da8d56703f",
   "metadata": {},
   "outputs": [
    {
     "data": {
      "application/vnd.jupyter.widget-view+json": {
       "model_id": "",
       "version_major": 2,
       "version_minor": 0
      },
      "text/plain": [
       "FloatProgress(value=0.0, bar_style='info', description='Progress:', layout=Layout(height='25px', width='50%'),…"
      ]
     },
     "metadata": {},
     "output_type": "display_data"
    },
    {
     "name": "stdout",
     "output_type": "stream",
     "text": [
      "root\n",
      " |-- SalesOrderID: string (nullable = true)\n",
      " |-- OrderDate: date (nullable = true)\n",
      " |-- ShipDate: date (nullable = true)\n",
      " |-- OnlineOrderFlag: boolean (nullable = true)\n",
      " |-- AccountNumber: string (nullable = true)\n",
      " |-- CustomerID: string (nullable = true)\n",
      " |-- SalesPersonID: string (nullable = true)\n",
      " |-- Freight: float (nullable = true)\n",
      " |-- loadDateTimeJob: timestamp (nullable = false)"
     ]
    }
   ],
   "source": [
    "df_store_salesOrderHeader.printSchema()"
   ]
  },
  {
   "cell_type": "code",
   "execution_count": 8,
   "id": "c81603d6-416a-451c-b5b7-c3bcbbf3958a",
   "metadata": {},
   "outputs": [
    {
     "data": {
      "application/vnd.jupyter.widget-view+json": {
       "model_id": "",
       "version_major": 2,
       "version_minor": 0
      },
      "text/plain": [
       "FloatProgress(value=0.0, bar_style='info', description='Progress:', layout=Layout(height='25px', width='50%'),…"
      ]
     },
     "metadata": {},
     "output_type": "display_data"
    }
   ],
   "source": [
    "spark.conf.set(\"spark.sql.sources.partitionOverwriteMode\", \"dynamic\")"
   ]
  },
  {
   "cell_type": "code",
   "execution_count": 9,
   "id": "efdb4235-8c37-48d4-a717-58bcc54c2a40",
   "metadata": {},
   "outputs": [
    {
     "data": {
      "application/vnd.jupyter.widget-view+json": {
       "model_id": "",
       "version_major": 2,
       "version_minor": 0
      },
      "text/plain": [
       "FloatProgress(value=0.0, bar_style='info', description='Progress:', layout=Layout(height='25px', width='50%'),…"
      ]
     },
     "metadata": {},
     "output_type": "display_data"
    }
   ],
   "source": [
    "(\n",
    "    df_store_salesOrderHeader\n",
    "    .coalesce(1)\n",
    "    .write\n",
    "    .mode('overwrite')\n",
    "    .parquet(f\"./jupyter_workspace/{target_path}/store_{file_name}/\")\n",
    ")"
   ]
  },
  {
   "cell_type": "code",
   "execution_count": null,
   "id": "4e42323a-83f6-4c68-9ff9-38e4607b9cd9",
   "metadata": {},
   "outputs": [],
   "source": []
  }
 ],
 "metadata": {
  "kernelspec": {
   "display_name": "PySpark",
   "language": "python",
   "name": "pysparkkernel"
  },
  "language_info": {
   "codemirror_mode": {
    "name": "python",
    "version": 3
   },
   "file_extension": ".py",
   "mimetype": "text/x-python",
   "name": "pyspark",
   "pygments_lexer": "python3"
  }
 },
 "nbformat": 4,
 "nbformat_minor": 5
}
